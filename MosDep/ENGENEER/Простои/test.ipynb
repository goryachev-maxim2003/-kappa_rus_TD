{
 "cells": [
  {
   "cell_type": "code",
   "execution_count": 8,
   "metadata": {},
   "outputs": [],
   "source": [
    "import tkinter as tk\n",
    "import xlwings as xw\n",
    "import pandas as pd\n",
    "import numpy as np"
   ]
  },
  {
   "cell_type": "code",
   "execution_count": 1,
   "metadata": {},
   "outputs": [
    {
     "name": "stderr",
     "output_type": "stream",
     "text": [
      "c:\\Users\\gorya\\AppData\\Local\\Programs\\Python\\Python311\\Lib\\site-packages\\openpyxl\\worksheet\\_reader.py:329: UserWarning: Data Validation extension is not supported and will be removed\n",
      "  warn(msg)\n",
      "c:\\Users\\gorya\\AppData\\Local\\Programs\\Python\\Python311\\Lib\\site-packages\\openpyxl\\worksheet\\_reader.py:329: UserWarning: Data Validation extension is not supported and will be removed\n",
      "  warn(msg)\n",
      "c:\\Users\\gorya\\AppData\\Local\\Programs\\Python\\Python311\\Lib\\site-packages\\openpyxl\\worksheet\\_reader.py:329: UserWarning: Data Validation extension is not supported and will be removed\n",
      "  warn(msg)\n",
      "c:\\Users\\gorya\\AppData\\Local\\Programs\\Python\\Python311\\Lib\\site-packages\\openpyxl\\worksheet\\_reader.py:329: UserWarning: Data Validation extension is not supported and will be removed\n",
      "  warn(msg)\n",
      "c:\\Users\\gorya\\AppData\\Local\\Programs\\Python\\Python311\\Lib\\site-packages\\openpyxl\\worksheet\\_reader.py:329: UserWarning: Data Validation extension is not supported and will be removed\n",
      "  warn(msg)\n",
      "c:\\Users\\gorya\\AppData\\Local\\Programs\\Python\\Python311\\Lib\\site-packages\\openpyxl\\worksheet\\_reader.py:329: UserWarning: Data Validation extension is not supported and will be removed\n",
      "  warn(msg)\n",
      "c:\\Users\\gorya\\AppData\\Local\\Programs\\Python\\Python311\\Lib\\site-packages\\openpyxl\\worksheet\\_reader.py:329: UserWarning: Data Validation extension is not supported and will be removed\n",
      "  warn(msg)\n",
      "c:\\Users\\gorya\\AppData\\Local\\Programs\\Python\\Python311\\Lib\\site-packages\\openpyxl\\worksheet\\_reader.py:329: UserWarning: Data Validation extension is not supported and will be removed\n",
      "  warn(msg)\n"
     ]
    }
   ],
   "source": [
    "# pyinstaller --windowed TD.py //Для того, чтобы сделать exe файл без консоли\n",
    "\n",
    "\n",
    "\n",
    "path_to_KPI_file = '../../../KPI техотдела 2024.xlsx'\n",
    "path_to_plan_time_file = '../../../../../../ForEverybody/DepProduction/Daily 2024_Нач_смен.xlsm'\n",
    "\n",
    "def middle_of_day(d):\n",
    "    return pd.to_datetime(f'{d.year}-{d.month}-{d.day} 12:00:00')\n",
    "\n",
    "def end_of_day(d):\n",
    "    d += pd.Timedelta(days=1)\n",
    "    return pd.to_datetime(f'{d.year}-{d.month}-{d.day} 00:00:00')\n",
    "\n",
    "def end_of_shift(d):\n",
    "    return end_of_day(d) if (d >= middle_of_day(d)) else middle_of_day(d)\n",
    "def get_plan_time(machine, shift, day, month, year):\n",
    "    date = pd.to_datetime(f'{year}-{month}-{day}')\n",
    "    try:\n",
    "        return plan_time_dict[machine][\n",
    "            (plan_time_dict[machine][\"Date\"] == date) & (plan_time_dict[machine][\"Shift\"] == shift)][\n",
    "            \"working time-stops for maintenance\"].iloc[0]\n",
    "    except IndexError:\n",
    "        return np.nan\n",
    "\n",
    "def clear():\n",
    "    KPI_sheet.range('B132').expand('table').value = None\n",
    "    KPI_sheet.range('H132').expand('table').value = None\n",
    "    KPI_sheet.range('M132').expand('table').value = None\n",
    "    KPI_sheet.range('D10:D17').value = None\n",
    "\n",
    "TableDowntime = pd.read_excel(path_to_KPI_file, sheet_name='Downtime (dowload from CPMS)',\n",
    "                                  usecols=['Станок', 'Код простоя', 'Месяц', 'Число', 'Начало простоя', 'Конец простоя',\n",
    "                                           'простой в мин.', 'Проблема', 'Узел'])\n",
    "KPI_book = xw.Book(path_to_KPI_file)\n",
    "KPI_sheet = KPI_book.sheets[\"KPI\"]\n",
    "\n",
    "machine = {\n",
    "    \"M222  ( Asahi/Gopfert 2100 Msk )\": \"ASAHI\",\n",
    "    \"M213  ( Martine 924 Msk )\": \"924\",\n",
    "    \"M232  ( RDC Goepfert 1624 )\": \"RDCGoepfert\",\n",
    "    \"M214  ( Martine 1232 Msk )\": \"1232\",\n",
    "    \"M221  ( Bobst/Flexo 1600 Msk )\": \"BOBST\",\n",
    "    \"M211  ( Miniline 616 Msk )\": \"616\",\n",
    "    \"M100  ( BHS 2500 )\": \"Corrugator\",\n",
    "    \"M241  ( Tanabe JD BoxR 1450 )\": \"Tanabe\"\n",
    "}\n",
    "\n",
    "# Меняем формат месяца из Apr в 04 и т.д. Цифру месяца берём из столбца месяц\n",
    "TableDowntime['Начало простоя'] = pd.to_datetime(TableDowntime['Начало простоя'])\n",
    "TableDowntime['Конец простоя'] = pd.to_datetime(TableDowntime['Конец простоя'])  # pandas понимает формат Apr, Mar и т.д.\n",
    "\n",
    "# Разделяем простои длинной в несколько дней на несколько записей или если простой затрагивает 2 дня\n",
    "# Пример 16.06 - период с 7-00 16.06.24 до 7-00 17.06.24\n",
    "# Временно смещаем время на 7 часов, чтобы корректно вычислять число и месяц в формате с 7 до 7\n",
    "TableDowntime['Начало простоя'] = pd.to_datetime(TableDowntime['Начало простоя'], format='%d %m %Y %H:%M:%S') - pd.Timedelta(hours=7)\n",
    "TableDowntime['Конец простоя'] = pd.to_datetime(TableDowntime['Конец простоя'], format='%d %m %Y %H:%M:%S') - pd.Timedelta(hours=7)\n",
    "\n",
    "# Делим запись с длинным простоем на записи с более короткими простоями по сменам (в днях не учитываем график с 7 до 7, т.к. даты временно смещены на 7 часов)\n",
    "for i in range(len(TableDowntime)):  # цикл не пробегает по созданным в цикле записям\n",
    "    cur_i = i\n",
    "    # Пока затрагивается новая смена отрезаем запись и проверяем новую запись в таблице\n",
    "    while (end_of_shift(TableDowntime.loc[cur_i, 'Начало простоя']) != end_of_shift(\n",
    "            TableDowntime.loc[cur_i, 'Конец простоя'])):\n",
    "        new_end = end_of_shift(TableDowntime.loc[cur_i, 'Начало простоя'])\n",
    "        new_series = TableDowntime.loc[cur_i].copy()\n",
    "        new_series.loc['Начало простоя'] = new_end\n",
    "        TableDowntime.loc[cur_i, 'Конец простоя'] = new_end\n",
    "        cur_i = len(TableDowntime)  # задаём индекс новой записи (только что созданной)\n",
    "        TableDowntime.loc[len(TableDowntime)] = new_series\n",
    "# Для новых записей также определяем число и месяц\n",
    "TableDowntime[\"Число\"] = TableDowntime['Начало простоя'].dt.day\n",
    "TableDowntime[\"Месяц\"] = TableDowntime['Начало простоя'].dt.month\n",
    "TableDowntime[\"Год\"] = TableDowntime['Начало простоя'].dt.year\n",
    "TableDowntime['Смена'] = 1 + (TableDowntime['Начало простоя'] >= TableDowntime['Начало простоя'].apply(\n",
    "    middle_of_day))  # чтобы можно было сортировать по смене\n",
    "\n",
    "# Смещаем обратно на 7 часов\n",
    "TableDowntime['Начало простоя'] = pd.to_datetime(TableDowntime['Начало простоя']) + pd.Timedelta(hours=7)\n",
    "TableDowntime['Конец простоя'] = pd.to_datetime(TableDowntime['Конец простоя']) + pd.Timedelta(hours=7)\n",
    "TableDowntime[\"простой в мин.\"] = ((TableDowntime['Конец простоя'] - TableDowntime[\n",
    "    'Начало простоя']).dt.total_seconds() / 60).round().astype(int)\n",
    "TableDowntime[\"Станок\"] = TableDowntime[\"Станок\"].apply(lambda x: machine[x])\n",
    "#Берём время работы for maintenance\n",
    "plan_time_dict = pd.read_excel(path_to_plan_time_file,\n",
    "    skiprows=[1,2,3,4],\n",
    "    usecols = ['Date', 'Shift', 'working time-stops for maintenance'],\n",
    "    sheet_name=['Corrugator', '616', '924', '1232', 'BOBST', 'Tanabe', 'ASAHI', 'RDCGoepfert'])\n",
    "for sheet_name in plan_time_dict.keys():\n",
    "    plan_time_dict[sheet_name] = plan_time_dict[sheet_name].dropna()\n",
    "    #Изменяем 07-19, 19-07 на 1 и 2 смену\n",
    "    plan_time_dict[sheet_name][\"Shift\"] = plan_time_dict[sheet_name][\"Shift\"].apply(lambda s : 1 if (s ==\"07-19\") else 2)\n",
    "# группировка по столбцам месяц, число и станок\n",
    "grouped_Downtime = TableDowntime.groupby(['Станок', 'Смена', 'Месяц', 'Число', 'Год']).agg({'простой в мин.': 'sum'}).reset_index()\n",
    "# сопоставляем время работы for maintenance с записями о застоях\n",
    "grouped_Downtime[\"Время работы for maintenance\"] = grouped_Downtime.apply(lambda row: get_plan_time(row['Станок'], row['Смена'], row['Число'], row['Месяц'], row['Год']), axis=1)\n",
    "grouped_Downtime[\"TD\"] = grouped_Downtime[\"простой в мин.\"] / grouped_Downtime[\"Время работы for maintenance\"] / 60 * 100\n",
    "grouped_Downtime[\"Дата\"] = grouped_Downtime.apply(lambda row: pd.to_datetime(f'{row[\"Год\"]}-{row[\"Месяц\"]}-{row[\"Число\"]}'), axis=1)\n",
    "# Возвращаем смену в исходный формат\n",
    "grouped_Downtime[\"Смена\"] = grouped_Downtime[\"Смена\"].apply(lambda n: \"07-19\" if (n == 1) else \"19-07\")\n",
    "grouped_Downtime = grouped_Downtime.sort_values(by='Дата', ascending=False)\n",
    "\n",
    "def grouped_by_shift():\n",
    "    #Записываем таблицу в файл\n",
    "    KPI_sheet.range('A132').value = grouped_Downtime[\n",
    "        [\"Станок\", \"Смена\", \"Дата\", \"TD\"]]\n",
    "    KPI_sheet.range('A133').expand('down').value = None  # чистим индексы\n",
    "def Today():\n",
    "    # Выводим сегодняшнюю статистику\n",
    "    today = pd.to_datetime(KPI_sheet.range('C6').value) - pd.Timedelta(\"1 day\")\n",
    "    day_grouped_Downtime = grouped_Downtime.groupby(['Станок', 'Дата']).agg(\n",
    "        {\"Время работы for maintenance\": 'sum', \"простой в мин.\": \"sum\"}).reset_index()\n",
    "\n",
    "    machine_in_rus = {\n",
    "        'Corrugator': 'Гофроагрегат',\n",
    "        '616': 'Мартин 616',\n",
    "        '924': 'Мартин 924',\n",
    "        '1232': 'Мартин 1232',\n",
    "        'BOBST': 'Бобст',\n",
    "        'ASAHI': 'Асахи',\n",
    "        'RDCGoepfert': 'RDC Goepfert',\n",
    "        'Tanabe': 'Tanabe'\n",
    "    }\n",
    "\n",
    "    machine_in_rus_keys = list(machine_in_rus.keys())\n",
    "    day_grouped_Downtime[\"TD\"] = day_grouped_Downtime[\"простой в мин.\"] / (\n",
    "                day_grouped_Downtime[\"Время работы for maintenance\"] * 60) * 100\n",
    "    today_TD = day_grouped_Downtime.loc[day_grouped_Downtime[\"Дата\"] == today, ['Станок', 'TD']]\n",
    "    today_TD.set_index('Станок', inplace=True)  # inplace - вместо возвращения нового датафрейма измениться текущий\n",
    "    for machine_name in (\n",
    "            set(machine_in_rus_keys) - set(today_TD.index)):  # Для машин по которым данных не было заполняем нулями\n",
    "        today_TD.loc[machine_name] = 0\n",
    "    sorted_today_TD = np.array(\n",
    "        today_TD.loc[['Corrugator', '616', '924', '1232', 'BOBST', 'ASAHI', 'RDCGoepfert', 'Tanabe']][\n",
    "            \"TD\"])  # сортировка прихотливым индексированием\n",
    "\n",
    "    KPI_sheet.range('D10').value = sorted_today_TD.reshape(len(sorted_today_TD), 1)\n",
    "def grouped_by_day():\n",
    "    day_grouped_Downtime = grouped_Downtime.groupby(['Станок', 'Дата']).agg(\n",
    "        {\"Время работы for maintenance\": 'sum', \"простой в мин.\": \"sum\"}).reset_index()\n",
    "    day_grouped_Downtime[\"TD\"] = day_grouped_Downtime[\"простой в мин.\"] / (\n",
    "                day_grouped_Downtime[\"Время работы for maintenance\"] * 60) * 100\n",
    "    day_grouped_Downtime = day_grouped_Downtime.sort_values(by='Дата', ascending=False)\n",
    "    KPI_sheet.range('G132').value = day_grouped_Downtime[[\"Станок\", \"Дата\", \"TD\"]]\n",
    "    KPI_sheet.range('G133').expand('down').value = None  # чистим индексы\n",
    "def grouped_by_month():\n",
    "    # По Месяцам\n",
    "    month_grouped_Downtime = grouped_Downtime.groupby(['Станок', 'Год', 'Месяц']).agg(\n",
    "        {\"Время работы for maintenance\": 'sum', \"простой в мин.\": \"sum\"}).reset_index()\n",
    "    month_grouped_Downtime[\"TD\"] = month_grouped_Downtime[\"простой в мин.\"] / (\n",
    "                month_grouped_Downtime[\"Время работы for maintenance\"] * 60) * 100\n",
    "\n",
    "    KPI_sheet.range('L132').value = month_grouped_Downtime[[\"Станок\", \"Год\", \"Месяц\", \"TD\"]]\n",
    "    KPI_sheet.range('L133').expand('down').value = None  # чистим индексы\n",
    "\n",
    "def TD_all():\n",
    "    Today()\n",
    "    grouped_by_shift()\n",
    "    grouped_by_day()\n",
    "    grouped_by_month()\n",
    "\n",
    "TD_all()"
   ]
  },
  {
   "cell_type": "code",
   "execution_count": 1,
   "metadata": {},
   "outputs": [
    {
     "data": {
      "text/plain": [
       "False"
      ]
     },
     "execution_count": 1,
     "metadata": {},
     "output_type": "execute_result"
    }
   ],
   "source": [
    "\"Daily 2024_Нач_смен\" == \"Daily_2024_Нач_смен\""
   ]
  },
  {
   "cell_type": "code",
   "execution_count": 9,
   "metadata": {},
   "outputs": [
    {
     "name": "stdout",
     "output_type": "stream",
     "text": [
      "function is started\n",
      "OK\n"
     ]
    }
   ],
   "source": [
    "def f():\n",
    "    print(\"OK\")\n",
    "def f2(f, text):\n",
    "    print(text)\n",
    "    f()\n",
    "f2(f, \"function is started\")"
   ]
  },
  {
   "cell_type": "code",
   "execution_count": 14,
   "metadata": {},
   "outputs": [
    {
     "data": {
      "text/html": [
       "<div>\n",
       "<style scoped>\n",
       "    .dataframe tbody tr th:only-of-type {\n",
       "        vertical-align: middle;\n",
       "    }\n",
       "\n",
       "    .dataframe tbody tr th {\n",
       "        vertical-align: top;\n",
       "    }\n",
       "\n",
       "    .dataframe thead th {\n",
       "        text-align: right;\n",
       "    }\n",
       "</style>\n",
       "<table border=\"1\" class=\"dataframe\">\n",
       "  <thead>\n",
       "    <tr style=\"text-align: right;\">\n",
       "      <th></th>\n",
       "      <th>a</th>\n",
       "      <th>b</th>\n",
       "    </tr>\n",
       "    <tr>\n",
       "      <th>a</th>\n",
       "      <th></th>\n",
       "      <th></th>\n",
       "    </tr>\n",
       "  </thead>\n",
       "  <tbody>\n",
       "    <tr>\n",
       "      <th>1</th>\n",
       "      <td>1</td>\n",
       "      <td>2</td>\n",
       "    </tr>\n",
       "    <tr>\n",
       "      <th>1</th>\n",
       "      <td>1</td>\n",
       "      <td>2</td>\n",
       "    </tr>\n",
       "  </tbody>\n",
       "</table>\n",
       "</div>"
      ],
      "text/plain": [
       "   a  b\n",
       "a      \n",
       "1  1  2\n",
       "1  1  2"
      ]
     },
     "execution_count": 14,
     "metadata": {},
     "output_type": "execute_result"
    }
   ],
   "source": [
    "df = pd.DataFrame({\"a\": [1,1,2], \"b\": [2,2,2]})\n",
    "df.index = df[\"a\"]\n",
    "df.loc[1]"
   ]
  },
  {
   "cell_type": "code",
   "execution_count": 30,
   "metadata": {},
   "outputs": [
    {
     "data": {
      "text/plain": [
       "True"
      ]
     },
     "execution_count": 30,
     "metadata": {},
     "output_type": "execute_result"
    }
   ],
   "source": [
    "def replace_rus_to_eng(s):\n",
    "    rus = \"уУеЕНхХаАрРоОсСТ\"\n",
    "    end = \"yYeEHxXaApPoOcCT\"\n",
    "    for i in range(len(rus)):\n",
    "        s = s.replace(rus[i], end[i])\n",
    "    return s"
   ]
  },
  {
   "cell_type": "code",
   "execution_count": null,
   "metadata": {},
   "outputs": [],
   "source": []
  }
 ],
 "metadata": {
  "kernelspec": {
   "display_name": "Python 3",
   "language": "python",
   "name": "python3"
  },
  "language_info": {
   "codemirror_mode": {
    "name": "ipython",
    "version": 3
   },
   "file_extension": ".py",
   "mimetype": "text/x-python",
   "name": "python",
   "nbconvert_exporter": "python",
   "pygments_lexer": "ipython3",
   "version": "3.11.2"
  }
 },
 "nbformat": 4,
 "nbformat_minor": 2
}
